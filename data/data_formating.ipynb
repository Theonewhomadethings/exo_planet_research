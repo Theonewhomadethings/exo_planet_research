{
 "cells": [
  {
   "cell_type": "code",
   "execution_count": 3,
   "id": "81e759db",
   "metadata": {},
   "outputs": [],
   "source": [
    "import numpy as np\n",
    "import matplotlib as plt\n",
    "import pandas as pd\n",
    "import datetime\n",
    "import csv"
   ]
  },
  {
   "cell_type": "markdown",
   "id": "3bfe018e",
   "metadata": {},
   "source": [
    "Aim: trying to change the first column data of our csv file from Julian date of observation to Gregorian Calender (What we use today)"
   ]
  },
  {
   "cell_type": "code",
   "execution_count": 4,
   "id": "d33af707",
   "metadata": {},
   "outputs": [],
   "source": [
    "#Pseudocode\n",
    "#read from csv file\n",
    "#Read column1 into some kind of list/array\n",
    "#then you want to iterate through this array and Use Julian date of observation to gregorian calender format you want\n",
    "#After loop maybe do another if formating is weird\n",
    "#Save column 1 with untouched column 2 and column 3 into a new CSV file"
   ]
  },
  {
   "cell_type": "code",
   "execution_count": 10,
   "id": "df4d2a99",
   "metadata": {},
   "outputs": [
    {
     "name": "stdout",
     "output_type": "stream",
     "text": [
      "Headers:\n",
      " ['JD double days', 'RV double m/s', 'RV uncertainty double m/s']\n"
     ]
    }
   ],
   "source": [
    "file = open('structured_data.csv')\n",
    "type(file)\n",
    "csvreader = csv.reader(file)\n",
    "header = []\n",
    "header = next(csvreader)\n",
    "print(\"Headers:\\n\", header)\n",
    "\n",
    "rows = []\n",
    "column_1 = []\n",
    "column_2 = []\n",
    "column_3 = []\n",
    "\n",
    "\n",
    "for row in csvreader:\n",
    "    rows.append(row)\n",
    "    column_1.append(float(row[0]))\n",
    "    column_2.append(float(row[1]))\n",
    "    column_3.append(float(row[2]))"
   ]
  },
  {
   "cell_type": "code",
   "execution_count": 11,
   "id": "80b47e34",
   "metadata": {},
   "outputs": [
    {
     "name": "stdout",
     "output_type": "stream",
     "text": [
      "Full data:\n",
      " [['2450830.958715', '-19.2', '6.8'], ['2451121.019444', '-12.4', '7.8'], ['2451385.310558', '32.0', '12.0'], ['2451411.202523', '6.0', '13.0'], ['2451473.085035', '-11.9', '7.2'], ['2451525.925093', '6.4', '8.5'], ['2451526.953241', '-5.7', '6.2'], ['2451683.331377', '36.4', '8.0'], ['2451743.276539', '34.5', '7.3'], ['2451745.264167', '37.0', '11.0'], ['2451767.269896', '4.2', '8.0'], ['2451768.254167', '11.1', '6.7'], ['2451828.060718', '-9.4', '9.1'], ['2451856.064294', '-33.0', '11.0'], ['2451856.924977', '-4.0', '15.0'], ['2451918.940718', '6.5', '8.5'], ['2452061.295943', '31.9', '7.2'], ['2452092.26831', '17.7', '6.9'], ['2452093.287558', '2.3', '7.2'], ['2452127.222951', '-11.8', '7.9'], ['2452128.154549', '-3.1', '7.9'], ['2452130.243345', '-26.7', '7.6'], ['2452151.211262', '-20.9', '6.6'], ['2452152.078565', '-14.1', '8.4'], ['2452154.154874', '-28.5', '6.5'], ['2452187.099977', '-14.1', '5.8'], ['2452188.035961', '-16.8', '6.1'], ['2452189.019914', '-30.4', '5.8'], ['2452190.003277', '-20.9', '5.5'], ['2452423.329769', '7.1', '6.1'], ['2452425.337593', '-9.7', '6.5'], ['2452456.32088', '-30.4', '6.9'], ['2452477.24794', '-23.6', '6.7'], ['2452511.098449', '-18.2', '6.3'], ['2452654.91588', '3.7', '9.1'], ['2452784.327222', '-13.5', '6.5'], ['2452857.238138', '-23.2', '4.7'], ['2452861.306343', '-30.0', '10.0'], ['2452946.039641', '-26.7', '7.4'], ['2453007.977963', '-12.2', '7.9'], ['2453041.954097', '20.8', '9.2'], ['2453042.908819', '11.3', '9.0'], ['2453215.278512', '-56.6', '4.6'], ['2453243.282859', '-49.4', '7.3'], ['2453244.226759', '-57.0', '7.5'], ['2453246.094075', '-51.5', '5.4'], ['2453281.137674', '-52.4', '7.1'], ['2453509.333833', '-44.6', '3.8'], ['2453516.331238', '-50.1', '4.2'], ['2453570.301761', '-68.5', '3.6'], ['2453576.22042', '-59.7', '3.0'], ['2453579.274858', '-55.9', '3.2'], ['2453632.196664', '-92.3', '3.6']]\n"
     ]
    }
   ],
   "source": [
    "print(\"Full data:\\n\", rows)"
   ]
  },
  {
   "cell_type": "code",
   "execution_count": 12,
   "id": "0fb16bf4",
   "metadata": {},
   "outputs": [
    {
     "name": "stdout",
     "output_type": "stream",
     "text": [
      "Column 1: \n",
      " [2450830.958715, 2451121.019444, 2451385.310558, 2451411.202523, 2451473.085035, 2451525.925093, 2451526.953241, 2451683.331377, 2451743.276539, 2451745.264167, 2451767.269896, 2451768.254167, 2451828.060718, 2451856.064294, 2451856.924977, 2451918.940718, 2452061.295943, 2452092.26831, 2452093.287558, 2452127.222951, 2452128.154549, 2452130.243345, 2452151.211262, 2452152.078565, 2452154.154874, 2452187.099977, 2452188.035961, 2452189.019914, 2452190.003277, 2452423.329769, 2452425.337593, 2452456.32088, 2452477.24794, 2452511.098449, 2452654.91588, 2452784.327222, 2452857.238138, 2452861.306343, 2452946.039641, 2453007.977963, 2453041.954097, 2453042.908819, 2453215.278512, 2453243.282859, 2453244.226759, 2453246.094075, 2453281.137674, 2453509.333833, 2453516.331238, 2453570.301761, 2453576.22042, 2453579.274858, 2453632.196664]\n"
     ]
    }
   ],
   "source": [
    "print(\"Column 1: \\n\", column_1)"
   ]
  },
  {
   "cell_type": "code",
   "execution_count": 13,
   "id": "fc86da1b",
   "metadata": {},
   "outputs": [
    {
     "name": "stdout",
     "output_type": "stream",
     "text": [
      "Column 2: \n",
      " [-19.2, -12.4, 32.0, 6.0, -11.9, 6.4, -5.7, 36.4, 34.5, 37.0, 4.2, 11.1, -9.4, -33.0, -4.0, 6.5, 31.9, 17.7, 2.3, -11.8, -3.1, -26.7, -20.9, -14.1, -28.5, -14.1, -16.8, -30.4, -20.9, 7.1, -9.7, -30.4, -23.6, -18.2, 3.7, -13.5, -23.2, -30.0, -26.7, -12.2, 20.8, 11.3, -56.6, -49.4, -57.0, -51.5, -52.4, -44.6, -50.1, -68.5, -59.7, -55.9, -92.3]\n"
     ]
    }
   ],
   "source": [
    "print(\"Column 2: \\n\", column_2)"
   ]
  },
  {
   "cell_type": "code",
   "execution_count": 14,
   "id": "77037e6c",
   "metadata": {},
   "outputs": [
    {
     "name": "stdout",
     "output_type": "stream",
     "text": [
      "Column 3: \n",
      " [6.8, 7.8, 12.0, 13.0, 7.2, 8.5, 6.2, 8.0, 7.3, 11.0, 8.0, 6.7, 9.1, 11.0, 15.0, 8.5, 7.2, 6.9, 7.2, 7.9, 7.9, 7.6, 6.6, 8.4, 6.5, 5.8, 6.1, 5.8, 5.5, 6.1, 6.5, 6.9, 6.7, 6.3, 9.1, 6.5, 4.7, 10.0, 7.4, 7.9, 9.2, 9.0, 4.6, 7.3, 7.5, 5.4, 7.1, 3.8, 4.2, 3.6, 3.0, 3.2, 3.6]\n"
     ]
    }
   ],
   "source": [
    "print(\"Column 3: \\n\", column_3)"
   ]
  },
  {
   "cell_type": "code",
   "execution_count": 25,
   "id": "c475fb80",
   "metadata": {},
   "outputs": [],
   "source": [
    "def julianDateToStandard(jdate):\n",
    "    fmt = '%Y%j'\n",
    "    datestd = datetime.datetime.strptime(jdate, fmt).date()\n",
    "    return datestd"
   ]
  },
  {
   "cell_type": "code",
   "execution_count": 23,
   "id": "8112a70b",
   "metadata": {},
   "outputs": [],
   "source": [
    "#for i in range(len(column_1)):\n",
    "    #print(column_1[i])"
   ]
  },
  {
   "cell_type": "code",
   "execution_count": 26,
   "id": "af74adb1",
   "metadata": {},
   "outputs": [
    {
     "ename": "ValueError",
     "evalue": "unconverted data remains: 0",
     "output_type": "error",
     "traceback": [
      "\u001b[0;31m---------------------------------------------------------------------------\u001b[0m",
      "\u001b[0;31mValueError\u001b[0m                                Traceback (most recent call last)",
      "\u001b[0;32m/tmp/ipykernel_303/4219976797.py\u001b[0m in \u001b[0;36m<module>\u001b[0;34m\u001b[0m\n\u001b[0;32m----> 1\u001b[0;31m \u001b[0mjulianDateToStandard\u001b[0m\u001b[0;34m(\u001b[0m\u001b[0;34m'2450830'\u001b[0m\u001b[0;34m)\u001b[0m\u001b[0;34m\u001b[0m\u001b[0;34m\u001b[0m\u001b[0m\n\u001b[0m",
      "\u001b[0;32m/tmp/ipykernel_303/1011183023.py\u001b[0m in \u001b[0;36mjulianDateToStandard\u001b[0;34m(jdate)\u001b[0m\n\u001b[1;32m      1\u001b[0m \u001b[0;32mdef\u001b[0m \u001b[0mjulianDateToStandard\u001b[0m\u001b[0;34m(\u001b[0m\u001b[0mjdate\u001b[0m\u001b[0;34m)\u001b[0m\u001b[0;34m:\u001b[0m\u001b[0;34m\u001b[0m\u001b[0;34m\u001b[0m\u001b[0m\n\u001b[1;32m      2\u001b[0m     \u001b[0mfmt\u001b[0m \u001b[0;34m=\u001b[0m \u001b[0;34m'%Y%j'\u001b[0m\u001b[0;34m\u001b[0m\u001b[0;34m\u001b[0m\u001b[0m\n\u001b[0;32m----> 3\u001b[0;31m     \u001b[0mdatestd\u001b[0m \u001b[0;34m=\u001b[0m \u001b[0mdatetime\u001b[0m\u001b[0;34m.\u001b[0m\u001b[0mdatetime\u001b[0m\u001b[0;34m.\u001b[0m\u001b[0mstrptime\u001b[0m\u001b[0;34m(\u001b[0m\u001b[0mjdate\u001b[0m\u001b[0;34m,\u001b[0m \u001b[0mfmt\u001b[0m\u001b[0;34m)\u001b[0m\u001b[0;34m.\u001b[0m\u001b[0mdate\u001b[0m\u001b[0;34m(\u001b[0m\u001b[0;34m)\u001b[0m\u001b[0;34m\u001b[0m\u001b[0;34m\u001b[0m\u001b[0m\n\u001b[0m\u001b[1;32m      4\u001b[0m     \u001b[0;32mreturn\u001b[0m \u001b[0mdatestd\u001b[0m\u001b[0;34m\u001b[0m\u001b[0;34m\u001b[0m\u001b[0m\n",
      "\u001b[0;32m~/anaconda3/lib/python3.9/_strptime.py\u001b[0m in \u001b[0;36m_strptime_datetime\u001b[0;34m(cls, data_string, format)\u001b[0m\n\u001b[1;32m    566\u001b[0m     \"\"\"Return a class cls instance based on the input string and the\n\u001b[1;32m    567\u001b[0m     format string.\"\"\"\n\u001b[0;32m--> 568\u001b[0;31m     \u001b[0mtt\u001b[0m\u001b[0;34m,\u001b[0m \u001b[0mfraction\u001b[0m\u001b[0;34m,\u001b[0m \u001b[0mgmtoff_fraction\u001b[0m \u001b[0;34m=\u001b[0m \u001b[0m_strptime\u001b[0m\u001b[0;34m(\u001b[0m\u001b[0mdata_string\u001b[0m\u001b[0;34m,\u001b[0m \u001b[0mformat\u001b[0m\u001b[0;34m)\u001b[0m\u001b[0;34m\u001b[0m\u001b[0;34m\u001b[0m\u001b[0m\n\u001b[0m\u001b[1;32m    569\u001b[0m     \u001b[0mtzname\u001b[0m\u001b[0;34m,\u001b[0m \u001b[0mgmtoff\u001b[0m \u001b[0;34m=\u001b[0m \u001b[0mtt\u001b[0m\u001b[0;34m[\u001b[0m\u001b[0;34m-\u001b[0m\u001b[0;36m2\u001b[0m\u001b[0;34m:\u001b[0m\u001b[0;34m]\u001b[0m\u001b[0;34m\u001b[0m\u001b[0;34m\u001b[0m\u001b[0m\n\u001b[1;32m    570\u001b[0m     \u001b[0margs\u001b[0m \u001b[0;34m=\u001b[0m \u001b[0mtt\u001b[0m\u001b[0;34m[\u001b[0m\u001b[0;34m:\u001b[0m\u001b[0;36m6\u001b[0m\u001b[0;34m]\u001b[0m \u001b[0;34m+\u001b[0m \u001b[0;34m(\u001b[0m\u001b[0mfraction\u001b[0m\u001b[0;34m,\u001b[0m\u001b[0;34m)\u001b[0m\u001b[0;34m\u001b[0m\u001b[0;34m\u001b[0m\u001b[0m\n",
      "\u001b[0;32m~/anaconda3/lib/python3.9/_strptime.py\u001b[0m in \u001b[0;36m_strptime\u001b[0;34m(data_string, format)\u001b[0m\n\u001b[1;32m    350\u001b[0m                          (data_string, format))\n\u001b[1;32m    351\u001b[0m     \u001b[0;32mif\u001b[0m \u001b[0mlen\u001b[0m\u001b[0;34m(\u001b[0m\u001b[0mdata_string\u001b[0m\u001b[0;34m)\u001b[0m \u001b[0;34m!=\u001b[0m \u001b[0mfound\u001b[0m\u001b[0;34m.\u001b[0m\u001b[0mend\u001b[0m\u001b[0;34m(\u001b[0m\u001b[0;34m)\u001b[0m\u001b[0;34m:\u001b[0m\u001b[0;34m\u001b[0m\u001b[0;34m\u001b[0m\u001b[0m\n\u001b[0;32m--> 352\u001b[0;31m         raise ValueError(\"unconverted data remains: %s\" %\n\u001b[0m\u001b[1;32m    353\u001b[0m                           data_string[found.end():])\n\u001b[1;32m    354\u001b[0m \u001b[0;34m\u001b[0m\u001b[0m\n",
      "\u001b[0;31mValueError\u001b[0m: unconverted data remains: 0"
     ]
    }
   ],
   "source": [
    "julianDateToStandard('2450830')"
   ]
  },
  {
   "cell_type": "code",
   "execution_count": 28,
   "id": "aab059dd",
   "metadata": {},
   "outputs": [
    {
     "name": "stdout",
     "output_type": "stream",
     "text": [
      "Column 1: \n",
      " [2450830.958715, 2451121.019444, 2451385.310558, 2451411.202523, 2451473.085035, 2451525.925093, 2451526.953241, 2451683.331377, 2451743.276539, 2451745.264167, 2451767.269896, 2451768.254167, 2451828.060718, 2451856.064294, 2451856.924977, 2451918.940718, 2452061.295943, 2452092.26831, 2452093.287558, 2452127.222951, 2452128.154549, 2452130.243345, 2452151.211262, 2452152.078565, 2452154.154874, 2452187.099977, 2452188.035961, 2452189.019914, 2452190.003277, 2452423.329769, 2452425.337593, 2452456.32088, 2452477.24794, 2452511.098449, 2452654.91588, 2452784.327222, 2452857.238138, 2452861.306343, 2452946.039641, 2453007.977963, 2453041.954097, 2453042.908819, 2453215.278512, 2453243.282859, 2453244.226759, 2453246.094075, 2453281.137674, 2453509.333833, 2453516.331238, 2453570.301761, 2453576.22042, 2453579.274858, 2453632.196664]\n"
     ]
    }
   ],
   "source": [
    "print(\"Column 1: \\n\", column_1)"
   ]
  },
  {
   "cell_type": "code",
   "execution_count": 34,
   "id": "20b32b13",
   "metadata": {},
   "outputs": [],
   "source": [
    "#chat gpt version \n",
    "def julianDateV2(jdate1):\n",
    "    baseDate = datetime.datetime(2000, 1, 1)\n",
    "    days = int(jdate1) - 2451545 #Subtract the Julian date of J2000 epoch \n",
    "    \n",
    "    #Add the fractional part of the Julian date as seconds\n",
    "    seconds = round((jdate1 % 1) * 24 * 60 * 60)\n",
    "    delta = datetime.timedelta(days = days, seconds = seconds)\n",
    "    \n",
    "    \n",
    "    datestd = baseDate + delta\n",
    "    return datestd.date().strftime('%Y-%m-%d')"
   ]
  },
  {
   "cell_type": "code",
   "execution_count": 35,
   "id": "6394b041",
   "metadata": {},
   "outputs": [
    {
     "name": "stdout",
     "output_type": "stream",
     "text": [
      "1998-01-16\n"
     ]
    }
   ],
   "source": [
    "convert_data = julianDateV2(2450830.958715)\n",
    "print(convert_data)"
   ]
  },
  {
   "cell_type": "code",
   "execution_count": 38,
   "id": "740b1e36",
   "metadata": {},
   "outputs": [
    {
     "name": "stdout",
     "output_type": "stream",
     "text": [
      "1998-01-16\n",
      "1998-11-03\n",
      "1999-07-25\n",
      "1999-08-20\n",
      "1999-10-21\n",
      "1999-12-12\n",
      "1999-12-13\n",
      "2000-05-18\n",
      "2000-07-17\n",
      "2000-07-19\n",
      "2000-08-10\n",
      "2000-08-11\n",
      "2000-10-10\n",
      "2000-11-07\n",
      "2000-11-07\n",
      "2001-01-08\n",
      "2001-05-31\n",
      "2001-07-01\n",
      "2001-07-02\n",
      "2001-08-05\n",
      "2001-08-06\n",
      "2001-08-08\n",
      "2001-08-29\n",
      "2001-08-30\n",
      "2001-09-01\n",
      "2001-10-04\n",
      "2001-10-05\n",
      "2001-10-06\n",
      "2001-10-07\n",
      "2002-05-28\n",
      "2002-05-30\n",
      "2002-06-30\n",
      "2002-07-21\n",
      "2002-08-24\n",
      "2003-01-14\n",
      "2003-05-24\n",
      "2003-08-05\n",
      "2003-08-09\n",
      "2003-11-02\n",
      "2004-01-02\n",
      "2004-02-05\n",
      "2004-02-06\n",
      "2004-07-28\n",
      "2004-08-25\n",
      "2004-08-26\n",
      "2004-08-28\n",
      "2004-10-02\n",
      "2005-05-18\n",
      "2005-05-25\n",
      "2005-07-18\n",
      "2005-07-24\n",
      "2005-07-27\n",
      "2005-09-18\n"
     ]
    }
   ],
   "source": [
    "column_1NEW = []\n",
    "for i in range(len(column_1)):\n",
    "    conversion = julianDateV2(column_1[i])\n",
    "    print(conversion)\n",
    "    column_1NEW.append(conversion)"
   ]
  },
  {
   "cell_type": "code",
   "execution_count": 39,
   "id": "59e04082",
   "metadata": {},
   "outputs": [
    {
     "name": "stdout",
     "output_type": "stream",
     "text": [
      "['1998-01-16', '1998-11-03', '1999-07-25', '1999-08-20', '1999-10-21', '1999-12-12', '1999-12-13', '2000-05-18', '2000-07-17', '2000-07-19', '2000-08-10', '2000-08-11', '2000-10-10', '2000-11-07', '2000-11-07', '2001-01-08', '2001-05-31', '2001-07-01', '2001-07-02', '2001-08-05', '2001-08-06', '2001-08-08', '2001-08-29', '2001-08-30', '2001-09-01', '2001-10-04', '2001-10-05', '2001-10-06', '2001-10-07', '2002-05-28', '2002-05-30', '2002-06-30', '2002-07-21', '2002-08-24', '2003-01-14', '2003-05-24', '2003-08-05', '2003-08-09', '2003-11-02', '2004-01-02', '2004-02-05', '2004-02-06', '2004-07-28', '2004-08-25', '2004-08-26', '2004-08-28', '2004-10-02', '2005-05-18', '2005-05-25', '2005-07-18', '2005-07-24', '2005-07-27', '2005-09-18']\n"
     ]
    }
   ],
   "source": [
    "print(column_1NEW)"
   ]
  },
  {
   "cell_type": "code",
   "execution_count": 40,
   "id": "50377746",
   "metadata": {},
   "outputs": [],
   "source": [
    "# Combine the columns into a list of rows\n",
    "rows = zip(column_1NEW, column_2, column_3) \n",
    "\n",
    "#Define the CSV file path\n",
    "csv_file = 'dataFormatted.csv'\n",
    "\n",
    "#Open the CSV file in write mode\n",
    "with open(csv_file, 'w', newline = '') as file:\n",
    "    writer = csv.writer(file)\n",
    "    \n",
    "    #write the header row \n",
    "    writer.writerow(['Date of observation', 'RV double m/s', 'RV uncertainty double m/s'])\n",
    "    \n",
    "    #write the data rows\n",
    "    writer.writerows(rows)"
   ]
  },
  {
   "cell_type": "code",
   "execution_count": 41,
   "id": "c9af8513",
   "metadata": {},
   "outputs": [],
   "source": [
    "# Combine the columns into a list of rows\n",
    "rows = zip(column_1NEW, column_2) \n",
    "\n",
    "#Define the CSV file path\n",
    "csv_file = 'dataFormatSimple.csv'\n",
    "\n",
    "#Open the CSV file in write mode\n",
    "with open(csv_file, 'w', newline = '') as file:\n",
    "    writer = csv.writer(file)\n",
    "    \n",
    "    #write the header row \n",
    "    writer.writerow(['Date of observation', 'RV double m/s'])\n",
    "    \n",
    "    #write the data rows\n",
    "    writer.writerows(rows)"
   ]
  },
  {
   "cell_type": "code",
   "execution_count": null,
   "id": "09f9211b",
   "metadata": {},
   "outputs": [],
   "source": []
  }
 ],
 "metadata": {
  "kernelspec": {
   "display_name": "Python 3 (ipykernel)",
   "language": "python",
   "name": "python3"
  },
  "language_info": {
   "codemirror_mode": {
    "name": "ipython",
    "version": 3
   },
   "file_extension": ".py",
   "mimetype": "text/x-python",
   "name": "python",
   "nbconvert_exporter": "python",
   "pygments_lexer": "ipython3",
   "version": "3.9.13"
  }
 },
 "nbformat": 4,
 "nbformat_minor": 5
}
